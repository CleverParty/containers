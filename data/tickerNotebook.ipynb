{
 "cells": [
  {
   "cell_type": "code",
   "execution_count": null,
   "metadata": {},
   "outputs": [],
   "source": [
    "import keras\n",
    "import numpy as np \n",
    "import requests\n",
    "import datetime\n",
    "import pandas as pd\n",
    "import pandas_datareader.data as reader\n",
    "from sklearn.svm import SVR\n",
    "from keras.layers import Dense\n",
    "from keras.layers import LSTM\n",
    "from keras.layers import Dropout\n",
    "import matplotlib.pyplot as plt\n",
    "import matplotlib.dates as mdates\n",
    "from matplotlib import style\n",
    "\n",
    "def create(symbol,start,end):\n",
    "    style.use('ggplot')\n",
    "    df = reader.DataReader(\"AAPL\", 'yahoo', start, end)\n",
    "    # sort by date\n",
    "    df = df.sort_values('Date') \n",
    "    # fix the date \n",
    "    df.reset_index(inplace=True)\n",
    "    return(df)\n",
    "\n",
    "def accessGrant():\n",
    "    stripped = \"\"\n",
    "    # adding noise to the data process:\n",
    "    # data[::5] += 3 * (0.5 - np.random.rand(5))\n",
    "    # accessfile = open(\"access.txt\",\"r\")\n",
    "    with open(\"access.txt\",\"r\") as access:\n",
    "            line = access.readline()\n",
    "            cnt = 1\n",
    "            while line:\n",
    "                if (\"finnhub\" in line):\n",
    "                    print(f'Line {cnt}: {line.strip(\"finnhub=~\")}')\n",
    "                stripped = line.strip(\"finnhub=~\")\n",
    "                line = access.readline()\n",
    "                cnt += 1\n",
    "                if(cnt>2):\n",
    "                    break\n",
    "\n",
    "def unixTimeStamp():\n",
    "    timenow = datetime.datetime.now()\n",
    "    epoch = datetime.datetime.utcfromtimestamp(0)\n",
    "    value = (timenow - epoch).total_seconds() * 1000.0\n",
    "    return(value,timenow)\n",
    "\n",
    "def genWebHook():\n",
    "    r = requests.post('https://finnhub.io/api/v1/webhook/add?token=', stripped , json={'event': 'earnings', 'symbol': 'AAPL'})\n",
    "    res = r.json() # limit 30/sec base\n",
    "    print(res)\n",
    "\n",
    "def main():\n",
    "    utc , _ = unixTimeStamp()\n",
    "    print(utc)\n",
    "    start = datetime.datetime(2019,8,5)\n",
    "    end = datetime.datetime.today()\n",
    "    df = create(\"AAPL\",start,end)\n",
    "    print(df.head())\n",
    "    # genWebHook()\n",
    "if __name__ == \"__main__\":\n",
    "    main()\n",
    "\n",
    "# quandl.ApiConfig.api_key = contents\n",
    "# data = quandl.get('WIKI/TSLA', start_date='2019-12-26', end_date='2020-7-28')\n",
    "# tsla = quandl.get(\"EOD/TSLA\")\n",
    "# print(tsla.head())"
   ]
  },
  {
   "cell_type": "code",
   "execution_count": null,
   "metadata": {},
   "outputs": [],
   "source": [
    "df"
   ]
  },
  {
   "cell_type": "code",
   "execution_count": null,
   "metadata": {},
   "outputs": [],
   "source": [
    "plt.figure(figsize = (15,5))\n",
    "plt.plot(df[\"Adj Close\"])"
   ]
  },
  {
   "cell_type": "code",
   "execution_count": null,
   "metadata": {},
   "outputs": [],
   "source": [
    "storeAdjClose = df['Adj Close']\n",
    "mavg = storeAdjClose.rolling(window=100).mean()"
   ]
  },
  {
   "cell_type": "code",
   "execution_count": null,
   "metadata": {},
   "outputs": [],
   "source": [
    "plt.figure(figsize = (12,5))\n",
    "storeAdjClose.plot()"
   ]
  },
  {
   "cell_type": "code",
   "execution_count": null,
   "metadata": {},
   "outputs": [],
   "source": [
    "plt.figure(figsize = (12,6))\n",
    "storeAdjClose.plot(label='TSLA')\n",
    "mavg.plot(label='mavg')\n",
    "plt.xlabel('Date')\n",
    "plt.ylabel('Price')\n",
    "plt.legend()"
   ]
  },
  {
   "cell_type": "code",
   "execution_count": null,
   "metadata": {},
   "outputs": [],
   "source": [
    "\n",
    "dates_df = df.copy()\n",
    "dates_df = dates_df.reset_index()\n",
    "\n",
    "org_dates = dates_df['Date']\n",
    "\n",
    "dates_df['Date'] = dates_df['Date'].map(mdates.date2num)\n",
    "\n",
    "dates_df.tail()"
   ]
  },
  {
   "cell_type": "code",
   "execution_count": null,
   "metadata": {},
   "outputs": [],
   "source": [
    "# kernels are used to map lower dimention datapoints to a high dimentional data space\n",
    "dates = dates_df['Date'].to_numpy()\n",
    "prices = df['Adj Close'].to_numpy()\n",
    "dates = np.reshape(dates, (len(dates), 1))\n",
    "prices = np.reshape(prices, (len(prices), 1))\n",
    "svrTickerLinear = SVR(kernel= 'linear')\n",
    "svrTickerLinear.fit(dates, prices)\n",
    "plt.figure(figsize = (12,6))\n",
    "plt.plot(dates, prices, color= 'black', label= 'Data')\n",
    "plt.plot(org_dates, svrTickerLinear.predict(dates), color= 'red', label= 'RBF model') \n",
    "plt.xlabel('Date')\n",
    "plt.ylabel('Price')\n",
    "plt.show()\n"
   ]
  },
  {
   "cell_type": "code",
   "execution_count": null,
   "metadata": {},
   "outputs": [],
   "source": [
    "svrTickerRBF = SVR(kernel= 'rbf', C= 1e3, gamma= 0.1)\n",
    "svrTickerRBF.fit(dates, prices)\n",
    "plt.figure(figsize = (12,6))\n",
    "plt.plot(dates, prices, color= 'black', label= 'Data')\n",
    "plt.plot(org_dates, svrTickerRBF.predict(dates), color= 'red', label= 'RBF model') \n",
    "plt.xlabel('Date')\n",
    "plt.ylabel('Price')\n",
    "plt.show()"
   ]
  },
  {
   "cell_type": "code",
   "execution_count": null,
   "metadata": {},
   "outputs": [],
   "source": [
    "svrTicker = SVR(kernel= 'sigmoid')\n",
    "svrTicker.fit(dates, prices)\n",
    "plt.figure(figsize = (12,6))\n",
    "plt.plot(dates, prices, color= 'black', label= 'Data')\n",
    "plt.plot(org_dates, svrTicker.predict(dates), color= 'red', label= 'RBF model') \n",
    "plt.xlabel('Date')\n",
    "plt.ylabel('Price')\n",
    "plt.show()"
   ]
  },
  {
   "cell_type": "code",
   "execution_count": null,
   "metadata": {},
   "outputs": [],
   "source": [
    "style.use('ggplot')\n",
    "start_b = datetime.datetime(2018,1,1)\n",
    "end_b = datetime.datetime.today()\n",
    "# start = datetime.datetime(2020,3,11)\n",
    "# end = datetime.datetime(2020,8,1)\n",
    "# end = datetime.date.today()\n",
    "df_b = reader.DataReader(\"MCD\", 'yahoo', start_b, end_b)\n",
    "# sort by date\n",
    "df_b = df_b.sort_values('Date')\n"
   ]
  },
  {
   "cell_type": "code",
   "execution_count": null,
   "metadata": {},
   "outputs": [],
   "source": [
    "print(df_b)"
   ]
  },
  {
   "cell_type": "code",
   "execution_count": null,
   "metadata": {},
   "outputs": [],
   "source": [
    "plt.figure(figsize = (15,5))\n",
    "plt.plot(df_b[\"Adj Close\"])"
   ]
  },
  {
   "cell_type": "code",
   "execution_count": 1,
   "metadata": {},
   "outputs": [],
   "source": [
    "import yfinance as yf\n",
    "\n",
    "def visualizeYfinanceHistoricalData(symbol):\n",
    "    ticker = yf.Ticker(symbol)\n",
    "    data = ticker.history(start=\"2010-01-01\",  end=\"2020-07-21\")\n",
    "    fig = plotit.Figure(data=[plotit.Candlestick(x=data['Date'],high=data['High'],low=data['Low'],close=data['Close'])])  \n",
    "    fig.show() "
   ]
  },
  {
   "cell_type": "code",
   "execution_count": null,
   "metadata": {},
   "outputs": [],
   "source": [
    "visualizeYfinanceHistoricalData(\"F\")"
   ]
  },
  {
   "cell_type": "code",
   "execution_count": null,
   "metadata": {},
   "outputs": [],
   "source": []
  },
  {
   "cell_type": "code",
   "execution_count": null,
   "metadata": {},
   "outputs": [],
   "source": []
  }
 ],
 "metadata": {
  "kernelspec": {
   "display_name": "Python 3",
   "language": "python",
   "name": "python3"
  },
  "language_info": {
   "codemirror_mode": {
    "name": "ipython",
    "version": 3
   },
   "file_extension": ".py",
   "mimetype": "text/x-python",
   "name": "python",
   "nbconvert_exporter": "python",
   "pygments_lexer": "ipython3",
   "version": "3.7.6"
  }
 },
 "nbformat": 4,
 "nbformat_minor": 4
}
